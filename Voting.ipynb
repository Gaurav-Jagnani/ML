{
  "nbformat": 4,
  "nbformat_minor": 0,
  "metadata": {
    "colab": {
      "name": "Voting.ipynb",
      "provenance": [],
      "collapsed_sections": [],
      "authorship_tag": "ABX9TyPnADzxLDM932b6aC6bydvy",
      "include_colab_link": true
    },
    "kernelspec": {
      "name": "python3",
      "display_name": "Python 3"
    }
  },
  "cells": [
    {
      "cell_type": "markdown",
      "metadata": {
        "id": "view-in-github",
        "colab_type": "text"
      },
      "source": [
        "<a href=\"https://colab.research.google.com/github/Gaurav-Jagnani/ML_micro_projects/blob/master/Voting.ipynb\" target=\"_parent\"><img src=\"https://colab.research.google.com/assets/colab-badge.svg\" alt=\"Open In Colab\"/></a>"
      ]
    },
    {
      "cell_type": "code",
      "metadata": {
        "id": "viDIMLAYaDFJ",
        "colab_type": "code",
        "colab": {}
      },
      "source": [
        "import numpy as np\n",
        "import pandas as pd\n",
        "from sklearn.datasets import load_iris\n",
        "from sklearn.model_selection import train_test_split\n",
        "from sklearn.tree import DecisionTreeClassifier\n",
        "from sklearn.neighbors import KNeighborsClassifier\n",
        "from sklearn.svm import SVC\n",
        "from sklearn.metrics import accuracy_score"
      ],
      "execution_count": 0,
      "outputs": []
    },
    {
      "cell_type": "code",
      "metadata": {
        "id": "5aC7ggxtaNxf",
        "colab_type": "code",
        "colab": {}
      },
      "source": [
        "iris = load_iris()"
      ],
      "execution_count": 0,
      "outputs": []
    },
    {
      "cell_type": "code",
      "metadata": {
        "id": "yjjs0e0IagSb",
        "colab_type": "code",
        "colab": {
          "base_uri": "https://localhost:8080/",
          "height": 87
        },
        "outputId": "57bf165d-8ced-438c-eadf-55983e0beb43"
      },
      "source": [
        "iris.feature_names"
      ],
      "execution_count": 108,
      "outputs": [
        {
          "output_type": "execute_result",
          "data": {
            "text/plain": [
              "['sepal length (cm)',\n",
              " 'sepal width (cm)',\n",
              " 'petal length (cm)',\n",
              " 'petal width (cm)']"
            ]
          },
          "metadata": {
            "tags": []
          },
          "execution_count": 108
        }
      ]
    },
    {
      "cell_type": "code",
      "metadata": {
        "id": "ZfTJVskVanHs",
        "colab_type": "code",
        "colab": {
          "base_uri": "https://localhost:8080/",
          "height": 260
        },
        "outputId": "2ef87b9d-12be-43c7-a069-fe83b0ae0e41"
      },
      "source": [
        "X = pd.DataFrame(iris.data, columns=iris.feature_names)\n",
        "Y = iris.target\n",
        "print(X)"
      ],
      "execution_count": 109,
      "outputs": [
        {
          "output_type": "stream",
          "text": [
            "     sepal length (cm)  sepal width (cm)  petal length (cm)  petal width (cm)\n",
            "0                  5.1               3.5                1.4               0.2\n",
            "1                  4.9               3.0                1.4               0.2\n",
            "2                  4.7               3.2                1.3               0.2\n",
            "3                  4.6               3.1                1.5               0.2\n",
            "4                  5.0               3.6                1.4               0.2\n",
            "..                 ...               ...                ...               ...\n",
            "145                6.7               3.0                5.2               2.3\n",
            "146                6.3               2.5                5.0               1.9\n",
            "147                6.5               3.0                5.2               2.0\n",
            "148                6.2               3.4                5.4               2.3\n",
            "149                5.9               3.0                5.1               1.8\n",
            "\n",
            "[150 rows x 4 columns]\n"
          ],
          "name": "stdout"
        }
      ]
    },
    {
      "cell_type": "code",
      "metadata": {
        "id": "EYJfVwAYayrS",
        "colab_type": "code",
        "colab": {}
      },
      "source": [
        "X_train, X_test, Y_train, Y_test = train_test_split(\n",
        "                                    X, Y, test_size=0.2)"
      ],
      "execution_count": 0,
      "outputs": []
    },
    {
      "cell_type": "code",
      "metadata": {
        "id": "wljW0mnvbM8S",
        "colab_type": "code",
        "colab": {
          "base_uri": "https://localhost:8080/",
          "height": 52
        },
        "outputId": "415784a8-d606-42ec-933a-3a835101d28a"
      },
      "source": [
        "print(X_train.shape)\n",
        "print(X_test.shape)"
      ],
      "execution_count": 111,
      "outputs": [
        {
          "output_type": "stream",
          "text": [
            "(120, 4)\n",
            "(30, 4)\n"
          ],
          "name": "stdout"
        }
      ]
    },
    {
      "cell_type": "code",
      "metadata": {
        "id": "XNbJHDIubSdM",
        "colab_type": "code",
        "colab": {}
      },
      "source": [
        "model1 = DecisionTreeClassifier()\n",
        "model2 = KNeighborsClassifier()\n",
        "model3 = SVC(kernel=\"rbf\", probability=True)"
      ],
      "execution_count": 0,
      "outputs": []
    },
    {
      "cell_type": "code",
      "metadata": {
        "id": "crrooiwfcBqL",
        "colab_type": "code",
        "colab": {
          "base_uri": "https://localhost:8080/",
          "height": 87
        },
        "outputId": "48a4fa97-bfdf-4a39-baca-3f60950e891d"
      },
      "source": [
        "model1.fit(X_train, Y_train)\n",
        "model2.fit(X_train, Y_train)\n",
        "model3.fit(X_train, Y_train)"
      ],
      "execution_count": 113,
      "outputs": [
        {
          "output_type": "execute_result",
          "data": {
            "text/plain": [
              "SVC(C=1.0, break_ties=False, cache_size=200, class_weight=None, coef0=0.0,\n",
              "    decision_function_shape='ovr', degree=3, gamma='scale', kernel='rbf',\n",
              "    max_iter=-1, probability=True, random_state=None, shrinking=True, tol=0.001,\n",
              "    verbose=False)"
            ]
          },
          "metadata": {
            "tags": []
          },
          "execution_count": 113
        }
      ]
    },
    {
      "cell_type": "code",
      "metadata": {
        "id": "ImsEkaIdcF-w",
        "colab_type": "code",
        "colab": {
          "base_uri": "https://localhost:8080/",
          "height": 69
        },
        "outputId": "d8eae8e0-962d-4c02-e5cf-3488a8c14206"
      },
      "source": [
        "pred1 = model1.predict(X_test)\n",
        "pred2 = model2.predict(X_test)\n",
        "pred3 = model3.predict(X_test)\n",
        "\n",
        "print(\"Model1 accuracy_score: \",\n",
        "        accuracy_score(Y_test, pred1))\n",
        "print(\"Model2 accuracy_score: \",\n",
        "        accuracy_score(Y_test, pred2))\n",
        "print(\"Model3 accuracy_score: \",\n",
        "        accuracy_score(Y_test, pred3))"
      ],
      "execution_count": 114,
      "outputs": [
        {
          "output_type": "stream",
          "text": [
            "Model1 accuracy_score:  0.9333333333333333\n",
            "Model2 accuracy_score:  0.9666666666666667\n",
            "Model3 accuracy_score:  0.9666666666666667\n"
          ],
          "name": "stdout"
        }
      ]
    },
    {
      "cell_type": "markdown",
      "metadata": {
        "id": "JHQj8U9ecr5R",
        "colab_type": "text"
      },
      "source": [
        "Hard voting"
      ]
    },
    {
      "cell_type": "code",
      "metadata": {
        "id": "LnPLVj0rcqw7",
        "colab_type": "code",
        "colab": {}
      },
      "source": [
        " def mode(arr):\n",
        "    \"\"\" Get mode of a array\n",
        "    \"\"\"\n",
        "    unique_counts = np.unique(arr, return_counts=True)\n",
        "    return unique_counts[0][np.argmax(unique_counts[1])]"
      ],
      "execution_count": 0,
      "outputs": []
    },
    {
      "cell_type": "code",
      "metadata": {
        "id": "b_aH-T3zerjH",
        "colab_type": "code",
        "colab": {}
      },
      "source": [
        "pred1 = pred1.reshape(-1, 1)\n",
        "pred2 = pred2.reshape(-1, 1)\n",
        "pred3 = pred3.reshape(-1, 1)\n",
        "preds = np.concatenate([pred1, pred2, pred2], axis=1)"
      ],
      "execution_count": 0,
      "outputs": []
    },
    {
      "cell_type": "code",
      "metadata": {
        "id": "jqgE-6jxgGL1",
        "colab_type": "code",
        "colab": {}
      },
      "source": [
        "preds_hardvoting = np.apply_along_axis(mode, 1, preds)"
      ],
      "execution_count": 0,
      "outputs": []
    },
    {
      "cell_type": "code",
      "metadata": {
        "id": "0MHelFNchF8I",
        "colab_type": "code",
        "colab": {
          "base_uri": "https://localhost:8080/",
          "height": 35
        },
        "outputId": "3b4b7855-b529-4972-a1f9-cce49cd70b10"
      },
      "source": [
        "print(\"Accuracy_score: \", \n",
        "        accuracy_score(Y_test, preds_hardvoting))"
      ],
      "execution_count": 118,
      "outputs": [
        {
          "output_type": "stream",
          "text": [
            "Accuracy_score:  0.9666666666666667\n"
          ],
          "name": "stdout"
        }
      ]
    },
    {
      "cell_type": "markdown",
      "metadata": {
        "id": "TxEy_G8lcumo",
        "colab_type": "text"
      },
      "source": [
        "Soft voting"
      ]
    },
    {
      "cell_type": "code",
      "metadata": {
        "id": "v0nk56MFhSCA",
        "colab_type": "code",
        "colab": {}
      },
      "source": [
        "soft_pred1 = model1.predict_proba(X_test)\n",
        "soft_pred2 = model2.predict_proba(X_test)\n",
        "soft_pred3 = model3.predict_proba(X_test)"
      ],
      "execution_count": 0,
      "outputs": []
    },
    {
      "cell_type": "code",
      "metadata": {
        "id": "KCIRrdZ_m_Y5",
        "colab_type": "code",
        "colab": {
          "base_uri": "https://localhost:8080/",
          "height": 35
        },
        "outputId": "96faba67-1d51-4c5c-821d-497bd200f344"
      },
      "source": [
        "soft_pred = (soft_pred1 + soft_pred2 + soft_pred3) / 3\n",
        "print(\"Accuracy_score: \", \n",
        "        accuracy_score(Y_test, np.argmax(soft_pred, axis=-1)))"
      ],
      "execution_count": 120,
      "outputs": [
        {
          "output_type": "stream",
          "text": [
            "Accuracy_score:  0.9333333333333333\n"
          ],
          "name": "stdout"
        }
      ]
    }
  ]
}