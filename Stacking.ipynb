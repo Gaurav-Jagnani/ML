{
  "nbformat": 4,
  "nbformat_minor": 0,
  "metadata": {
    "colab": {
      "name": "Stacking.ipynb",
      "provenance": [],
      "include_colab_link": true
    },
    "kernelspec": {
      "name": "python3",
      "display_name": "Python 3"
    }
  },
  "cells": [
    {
      "cell_type": "markdown",
      "metadata": {
        "id": "view-in-github",
        "colab_type": "text"
      },
      "source": [
        "<a href=\"https://colab.research.google.com/github/Gaurav-Jagnani/ML_micro_projects/blob/master/Stacking.ipynb\" target=\"_parent\"><img src=\"https://colab.research.google.com/assets/colab-badge.svg\" alt=\"Open In Colab\"/></a>"
      ]
    },
    {
      "cell_type": "code",
      "metadata": {
        "id": "zcdVGny4oXr5",
        "colab_type": "code",
        "colab": {}
      },
      "source": [
        "import numpy as np\n",
        "import pandas as pd\n",
        "from sklearn.datasets import load_iris\n",
        "from sklearn.ensemble import RandomForestRegressor\n",
        "from sklearn.linear_model import LinearRegression\n",
        "from sklearn.model_selection import train_test_split\n",
        "from sklearn.metrics import r2_score"
      ],
      "execution_count": 0,
      "outputs": []
    },
    {
      "cell_type": "code",
      "metadata": {
        "id": "-nxnzX3m5JUE",
        "colab_type": "code",
        "outputId": "6e2818df-5c70-47bf-a974-3063db7f8cbd",
        "colab": {
          "base_uri": "https://localhost:8080/",
          "height": 35
        }
      },
      "source": [
        "iris = load_iris()\n",
        "print(iris.feature_names)"
      ],
      "execution_count": 0,
      "outputs": [
        {
          "output_type": "stream",
          "text": [
            "['sepal length (cm)', 'sepal width (cm)', 'petal length (cm)', 'petal width (cm)']\n"
          ],
          "name": "stdout"
        }
      ]
    },
    {
      "cell_type": "code",
      "metadata": {
        "id": "3I1gEDPx5Plj",
        "colab_type": "code",
        "outputId": "bf6cc5c0-be12-498e-d811-e1a535d173c5",
        "colab": {
          "base_uri": "https://localhost:8080/",
          "height": 121
        }
      },
      "source": [
        "X = pd.DataFrame(iris.data, columns=iris.feature_names)\n",
        "Y = iris.target\n",
        "print(X.head())"
      ],
      "execution_count": 0,
      "outputs": [
        {
          "output_type": "stream",
          "text": [
            "   sepal length (cm)  sepal width (cm)  petal length (cm)  petal width (cm)\n",
            "0                5.1               3.5                1.4               0.2\n",
            "1                4.9               3.0                1.4               0.2\n",
            "2                4.7               3.2                1.3               0.2\n",
            "3                4.6               3.1                1.5               0.2\n",
            "4                5.0               3.6                1.4               0.2\n"
          ],
          "name": "stdout"
        }
      ]
    },
    {
      "cell_type": "code",
      "metadata": {
        "id": "UOG9Uxl8_PbR",
        "colab_type": "code",
        "outputId": "ad63f683-2645-4f0a-dd05-41d24174490c",
        "colab": {
          "base_uri": "https://localhost:8080/",
          "height": 35
        }
      },
      "source": [
        "# Remove correlated columns\n",
        "corr_df = X.corr().abs()\n",
        "up_tri = np.triu(\n",
        "\tnp.full(corr_df.shape, 1), k=1)\n",
        "up_tri = up_tri.astype(bool)\n",
        "corr_df = corr_df.where(up_tri)\n",
        "correlated_cols = [col for col in corr_df if any(corr_df[col] > 0.75)]\n",
        "print(correlated_cols)"
      ],
      "execution_count": 0,
      "outputs": [
        {
          "output_type": "stream",
          "text": [
            "['petal length (cm)', 'petal width (cm)']\n"
          ],
          "name": "stdout"
        }
      ]
    },
    {
      "cell_type": "code",
      "metadata": {
        "id": "MY4SCMoz_VZw",
        "colab_type": "code",
        "outputId": "c0e6b1ad-d2ea-4a36-eb1f-df7f47025200",
        "colab": {
          "base_uri": "https://localhost:8080/",
          "height": 121
        }
      },
      "source": [
        "X.drop(correlated_cols, axis=1, inplace=True)\n",
        "print(X.head())"
      ],
      "execution_count": 0,
      "outputs": [
        {
          "output_type": "stream",
          "text": [
            "   sepal length (cm)  sepal width (cm)\n",
            "0                5.1               3.5\n",
            "1                4.9               3.0\n",
            "2                4.7               3.2\n",
            "3                4.6               3.1\n",
            "4                5.0               3.6\n"
          ],
          "name": "stdout"
        }
      ]
    },
    {
      "cell_type": "code",
      "metadata": {
        "id": "gP6YwS4i7C6v",
        "colab_type": "code",
        "colab": {}
      },
      "source": [
        "X_train, X_test, Y_train, Y_test = train_test_split(\n",
        "                                    X, Y, test_size=0.2)"
      ],
      "execution_count": 0,
      "outputs": []
    },
    {
      "cell_type": "code",
      "metadata": {
        "id": "iNksg1ci7S11",
        "colab_type": "code",
        "colab": {}
      },
      "source": [
        "X_train, X_val, Y_train, Y_val = train_test_split(\n",
        "                                    X_train, Y_train, test_size=0.5)"
      ],
      "execution_count": 0,
      "outputs": []
    },
    {
      "cell_type": "code",
      "metadata": {
        "id": "TCx6Ea6V7kYd",
        "colab_type": "code",
        "colab": {}
      },
      "source": [
        "model1 = RandomForestRegressor()\n",
        "model2 = LinearRegression()"
      ],
      "execution_count": 0,
      "outputs": []
    },
    {
      "cell_type": "code",
      "metadata": {
        "id": "oYQc2I8G7pD0",
        "colab_type": "code",
        "outputId": "fd03f321-6d6b-4b9c-841e-42dcbc99d9d9",
        "colab": {
          "base_uri": "https://localhost:8080/",
          "height": 52
        }
      },
      "source": [
        "model1.fit(X_train, Y_train)\n",
        "model2.fit(X_train, Y_train)\n",
        "val_pred1 = model1.predict(X_val)\n",
        "val_pred2 = model2.predict(X_val)\n",
        "test_pred1 = model1.predict(X_test)\n",
        "test_pred2 = model2.predict(X_test)\n",
        "print(r2_score(test_pred1, Y_test))\n",
        "print(r2_score(test_pred2, Y_test))"
      ],
      "execution_count": 0,
      "outputs": [
        {
          "output_type": "stream",
          "text": [
            "0.4591994811593182\n",
            "0.5625685756995965\n"
          ],
          "name": "stdout"
        }
      ]
    },
    {
      "cell_type": "code",
      "metadata": {
        "id": "sKsdgSAc8MeF",
        "colab_type": "code",
        "colab": {}
      },
      "source": [
        "val_pred = np.column_stack((val_pred1, val_pred2))\n",
        "test_pred = np.column_stack((test_pred1, test_pred2))"
      ],
      "execution_count": 0,
      "outputs": []
    },
    {
      "cell_type": "code",
      "metadata": {
        "id": "_hk9KFDc8Awl",
        "colab_type": "code",
        "colab": {}
      },
      "source": [
        "meta_model = LinearRegression()"
      ],
      "execution_count": 0,
      "outputs": []
    },
    {
      "cell_type": "code",
      "metadata": {
        "id": "4rPuE0x28FhE",
        "colab_type": "code",
        "outputId": "045c9860-e381-4bbc-d77d-12f57383a830",
        "colab": {
          "base_uri": "https://localhost:8080/",
          "height": 35
        }
      },
      "source": [
        "meta_model.fit(val_pred, Y_val)"
      ],
      "execution_count": 0,
      "outputs": [
        {
          "output_type": "execute_result",
          "data": {
            "text/plain": [
              "LinearRegression(copy_X=True, fit_intercept=True, n_jobs=None, normalize=False)"
            ]
          },
          "metadata": {
            "tags": []
          },
          "execution_count": 246
        }
      ]
    },
    {
      "cell_type": "code",
      "metadata": {
        "id": "CYZvCgoM89FX",
        "colab_type": "code",
        "colab": {}
      },
      "source": [
        "blending_pred = meta_model.predict(test_pred)"
      ],
      "execution_count": 0,
      "outputs": []
    },
    {
      "cell_type": "code",
      "metadata": {
        "id": "i67vCnNu9Scj",
        "colab_type": "code",
        "outputId": "fa1f304a-68f9-4501-c9ba-a5e79a8353c8",
        "colab": {
          "base_uri": "https://localhost:8080/",
          "height": 35
        }
      },
      "source": [
        "r2_score(blending_pred, Y_test)"
      ],
      "execution_count": 0,
      "outputs": [
        {
          "output_type": "execute_result",
          "data": {
            "text/plain": [
              "0.6650353944696372"
            ]
          },
          "metadata": {
            "tags": []
          },
          "execution_count": 248
        }
      ]
    }
  ]
}