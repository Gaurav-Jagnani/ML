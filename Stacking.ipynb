{
  "nbformat": 4,
  "nbformat_minor": 0,
  "metadata": {
    "colab": {
      "name": "Stacking.ipynb",
      "provenance": [],
      "include_colab_link": true
    },
    "kernelspec": {
      "name": "python3",
      "display_name": "Python 3"
    }
  },
  "cells": [
    {
      "cell_type": "markdown",
      "metadata": {
        "id": "view-in-github",
        "colab_type": "text"
      },
      "source": [
        "<a href=\"https://colab.research.google.com/github/Gaurav-Jagnani/ML_micro_projects/blob/master/Stacking.ipynb\" target=\"_parent\"><img src=\"https://colab.research.google.com/assets/colab-badge.svg\" alt=\"Open In Colab\"/></a>"
      ]
    },
    {
      "cell_type": "code",
      "metadata": {
        "id": "zcdVGny4oXr5",
        "colab_type": "code",
        "colab": {}
      },
      "source": [
        "import numpy as np\n",
        "import pandas as pd\n",
        "from sklearn.datasets import load_iris\n",
        "from sklearn.tree import DecisionTreeClassifier\n",
        "from sklearn.neighbors import KNeighborsClassifier\n",
        "from sklearn.linear_model import LogisticRegression\n",
        "from sklearn.model_selection import train_test_split\n",
        "from sklearn.model_selection import StratifiedKFold\n",
        "from sklearn.metrics import accuracy_score"
      ],
      "execution_count": 0,
      "outputs": []
    },
    {
      "cell_type": "code",
      "metadata": {
        "id": "-nxnzX3m5JUE",
        "colab_type": "code",
        "outputId": "5d015cb9-3f35-4de0-ee1a-101663262f10",
        "colab": {
          "base_uri": "https://localhost:8080/",
          "height": 35
        }
      },
      "source": [
        "iris = load_iris()\n",
        "print(iris.feature_names)"
      ],
      "execution_count": 300,
      "outputs": [
        {
          "output_type": "stream",
          "text": [
            "['sepal length (cm)', 'sepal width (cm)', 'petal length (cm)', 'petal width (cm)']\n"
          ],
          "name": "stdout"
        }
      ]
    },
    {
      "cell_type": "code",
      "metadata": {
        "id": "3I1gEDPx5Plj",
        "colab_type": "code",
        "outputId": "c0edff96-efe6-495e-802c-1bfd35e07f5c",
        "colab": {
          "base_uri": "https://localhost:8080/",
          "height": 121
        }
      },
      "source": [
        "X = pd.DataFrame(iris.data, columns=iris.feature_names)\n",
        "Y = iris.target\n",
        "print(X.head())"
      ],
      "execution_count": 301,
      "outputs": [
        {
          "output_type": "stream",
          "text": [
            "   sepal length (cm)  sepal width (cm)  petal length (cm)  petal width (cm)\n",
            "0                5.1               3.5                1.4               0.2\n",
            "1                4.9               3.0                1.4               0.2\n",
            "2                4.7               3.2                1.3               0.2\n",
            "3                4.6               3.1                1.5               0.2\n",
            "4                5.0               3.6                1.4               0.2\n"
          ],
          "name": "stdout"
        }
      ]
    },
    {
      "cell_type": "code",
      "metadata": {
        "id": "UOG9Uxl8_PbR",
        "colab_type": "code",
        "outputId": "8d8aa857-f52f-48fa-efe9-095624a3e7fc",
        "colab": {
          "base_uri": "https://localhost:8080/",
          "height": 35
        }
      },
      "source": [
        "# Remove correlated columns\n",
        "corr_df = X.corr().abs()\n",
        "up_tri = np.triu(\n",
        "\tnp.full(corr_df.shape, 1), k=1)\n",
        "up_tri = up_tri.astype(bool)\n",
        "corr_df = corr_df.where(up_tri)\n",
        "correlated_cols = [col for col in corr_df if any(corr_df[col] > 0.75)]\n",
        "print(correlated_cols)"
      ],
      "execution_count": 302,
      "outputs": [
        {
          "output_type": "stream",
          "text": [
            "['petal length (cm)', 'petal width (cm)']\n"
          ],
          "name": "stdout"
        }
      ]
    },
    {
      "cell_type": "code",
      "metadata": {
        "id": "MY4SCMoz_VZw",
        "colab_type": "code",
        "outputId": "6ff2ab21-7539-4363-dd69-b1ac70229559",
        "colab": {
          "base_uri": "https://localhost:8080/",
          "height": 121
        }
      },
      "source": [
        "X.drop(correlated_cols, axis=1, inplace=True)\n",
        "print(X.head())"
      ],
      "execution_count": 303,
      "outputs": [
        {
          "output_type": "stream",
          "text": [
            "   sepal length (cm)  sepal width (cm)\n",
            "0                5.1               3.5\n",
            "1                4.9               3.0\n",
            "2                4.7               3.2\n",
            "3                4.6               3.1\n",
            "4                5.0               3.6\n"
          ],
          "name": "stdout"
        }
      ]
    },
    {
      "cell_type": "code",
      "metadata": {
        "id": "gP6YwS4i7C6v",
        "colab_type": "code",
        "colab": {}
      },
      "source": [
        "X_train, X_test, Y_train, Y_test = train_test_split(\n",
        "                                    X, Y, test_size=0.2)"
      ],
      "execution_count": 0,
      "outputs": []
    },
    {
      "cell_type": "code",
      "metadata": {
        "id": "xuz1TFQzAlyQ",
        "colab_type": "code",
        "colab": {}
      },
      "source": [
        "def stacking(model, n_folds, X_train, X_test):\n",
        "    sFold = StratifiedKFold(n_folds)\n",
        "    val_preds = list()\n",
        "    Y_reindexed = list()\n",
        "    for train_idx, val_idx in sFold.split(X_train, Y_train):\n",
        "        X_fold = X_train.iloc[train_idx]\n",
        "        Y_fold = Y_train[train_idx]\n",
        "        X_val = X_train.iloc[val_idx]\n",
        "        Y_val = Y_train[val_idx]\n",
        "        model.fit(X_fold, Y_fold)\n",
        "        val_preds.extend(model.predict(X_val))\n",
        "        Y_reindexed.extend(Y_val)\n",
        "\n",
        "    test_pred = model.predict(X_test)\n",
        "    val_preds = np.array(val_preds).reshape(-1, 1)\n",
        "\n",
        "    return val_preds, test_pred, Y_reindexed"
      ],
      "execution_count": 0,
      "outputs": []
    },
    {
      "cell_type": "code",
      "metadata": {
        "id": "5FxLBAp_DQtc",
        "colab_type": "code",
        "colab": {}
      },
      "source": [
        "model1 = DecisionTreeClassifier()\n",
        "val_pred1, test_pred1, Y_reindexed = stacking(\n",
        "                        model1, 5, X_train, X_test)"
      ],
      "execution_count": 0,
      "outputs": []
    },
    {
      "cell_type": "code",
      "metadata": {
        "id": "T_EO4DiUDw9S",
        "colab_type": "code",
        "colab": {}
      },
      "source": [
        "model2 = KNeighborsClassifier()\n",
        "val_pred2, test_pred2, Y_reindexed = stacking(\n",
        "                        model2, 5, X_train, X_test)"
      ],
      "execution_count": 0,
      "outputs": []
    },
    {
      "cell_type": "code",
      "metadata": {
        "id": "CBLjlyRcEI52",
        "colab_type": "code",
        "colab": {}
      },
      "source": [
        "val_pred = np.column_stack([val_pred1, val_pred2])\n",
        "test_pred = np.column_stack([test_pred1, test_pred2])"
      ],
      "execution_count": 0,
      "outputs": []
    },
    {
      "cell_type": "code",
      "metadata": {
        "id": "hYFy3iRpNyuU",
        "colab_type": "code",
        "colab": {
          "base_uri": "https://localhost:8080/",
          "height": 35
        },
        "outputId": "4b470fdc-941c-4de3-9ac9-3e6709b7036f"
      },
      "source": [
        "meta_model = LogisticRegression()\n",
        "meta_model.fit(val_pred, Y_reindexed)\n",
        "stacking_pred = meta_model.predict(test_pred)\n",
        "print(accuracy_score(stacking_pred, Y_test))"
      ],
      "execution_count": 309,
      "outputs": [
        {
          "output_type": "stream",
          "text": [
            "0.8\n"
          ],
          "name": "stdout"
        }
      ]
    }
  ]
}