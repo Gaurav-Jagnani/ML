{
  "nbformat": 4,
  "nbformat_minor": 0,
  "metadata": {
    "colab": {
      "name": "Averaging.ipynb",
      "provenance": [],
      "authorship_tag": "ABX9TyPKQvHlnpQISx4vZ5sF8NUP",
      "include_colab_link": true
    },
    "kernelspec": {
      "name": "python3",
      "display_name": "Python 3"
    }
  },
  "cells": [
    {
      "cell_type": "markdown",
      "metadata": {
        "id": "view-in-github",
        "colab_type": "text"
      },
      "source": [
        "<a href=\"https://colab.research.google.com/github/Gaurav-Jagnani/ML_micro_projects/blob/master/Averaging.ipynb\" target=\"_parent\"><img src=\"https://colab.research.google.com/assets/colab-badge.svg\" alt=\"Open In Colab\"/></a>"
      ]
    },
    {
      "cell_type": "code",
      "metadata": {
        "id": "bJsH7ZroyzFe",
        "colab_type": "code",
        "colab": {}
      },
      "source": [
        "import numpy as np\n",
        "import pandas as pd\n",
        "from sklearn import datasets\n",
        "from sklearn.model_selection import KFold\n",
        "from sklearn.linear_model import LinearRegression\n",
        "from sklearn.neighbors import KNeighborsRegressor\n",
        "from sklearn.model_selection import train_test_split\n",
        "from sklearn.metrics import mean_squared_error, r2_score"
      ],
      "execution_count": 0,
      "outputs": []
    },
    {
      "cell_type": "code",
      "metadata": {
        "id": "s87QSjApzAbq",
        "colab_type": "code",
        "outputId": "181662fe-58e2-4e01-f430-6b7cd91177d3",
        "colab": {
          "base_uri": "https://localhost:8080/",
          "height": 260
        }
      },
      "source": [
        "iris = datasets.load_iris()\n",
        "X = pd.DataFrame(iris.data, columns=iris.feature_names)\n",
        "Y = iris.target\n",
        "print(X)"
      ],
      "execution_count": 57,
      "outputs": [
        {
          "output_type": "stream",
          "text": [
            "     sepal length (cm)  sepal width (cm)  petal length (cm)  petal width (cm)\n",
            "0                  5.1               3.5                1.4               0.2\n",
            "1                  4.9               3.0                1.4               0.2\n",
            "2                  4.7               3.2                1.3               0.2\n",
            "3                  4.6               3.1                1.5               0.2\n",
            "4                  5.0               3.6                1.4               0.2\n",
            "..                 ...               ...                ...               ...\n",
            "145                6.7               3.0                5.2               2.3\n",
            "146                6.3               2.5                5.0               1.9\n",
            "147                6.5               3.0                5.2               2.0\n",
            "148                6.2               3.4                5.4               2.3\n",
            "149                5.9               3.0                5.1               1.8\n",
            "\n",
            "[150 rows x 4 columns]\n"
          ],
          "name": "stdout"
        }
      ]
    },
    {
      "cell_type": "code",
      "metadata": {
        "id": "tvto2ZlVzEGX",
        "colab_type": "code",
        "outputId": "11242d09-7d0f-48dd-9b09-b66d0e337d0d",
        "colab": {
          "base_uri": "https://localhost:8080/",
          "height": 35
        }
      },
      "source": [
        "# Remove correlated columns\n",
        "corr_df = X.corr().abs()\n",
        "up_tri = np.triu(\n",
        "\tnp.full(corr_df.shape, 1), k=1)\n",
        "up_tri = up_tri.astype(bool)\n",
        "corr_df = corr_df.where(up_tri)\n",
        "correlated_cols = [col for col in corr_df if any(corr_df[col] > 0.75)]\n",
        "print(correlated_cols)"
      ],
      "execution_count": 58,
      "outputs": [
        {
          "output_type": "stream",
          "text": [
            "['petal length (cm)', 'petal width (cm)']\n"
          ],
          "name": "stdout"
        }
      ]
    },
    {
      "cell_type": "code",
      "metadata": {
        "id": "EOzoAS-9zeIR",
        "colab_type": "code",
        "outputId": "0026b247-f6c2-495e-e0c0-39e64a21cd45",
        "colab": {
          "base_uri": "https://localhost:8080/",
          "height": 35
        }
      },
      "source": [
        "X.drop(correlated_cols, axis=1, inplace=True)\n",
        "print(X.shape)"
      ],
      "execution_count": 59,
      "outputs": [
        {
          "output_type": "stream",
          "text": [
            "(150, 2)\n"
          ],
          "name": "stdout"
        }
      ]
    },
    {
      "cell_type": "code",
      "metadata": {
        "id": "4nlt8z_NzlG_",
        "colab_type": "code",
        "colab": {}
      },
      "source": [
        "X_train, X_test, Y_train, Y_test = train_test_split(\n",
        "                                    X, Y, test_size=0.2)"
      ],
      "execution_count": 0,
      "outputs": []
    },
    {
      "cell_type": "code",
      "metadata": {
        "id": "c93A5sqFRY22",
        "colab_type": "code",
        "colab": {}
      },
      "source": [
        "model1 = LinearRegression()\n",
        "model2 = KNeighborsRegressor()"
      ],
      "execution_count": 0,
      "outputs": []
    },
    {
      "cell_type": "code",
      "metadata": {
        "id": "inulLX3KSMl5",
        "colab_type": "code",
        "outputId": "febc2051-97ea-48ea-aad8-2e28649a18c6",
        "colab": {
          "base_uri": "https://localhost:8080/",
          "height": 69
        }
      },
      "source": [
        "model1.fit(X_train, Y_train)\n",
        "model2.fit(X_train, Y_train)"
      ],
      "execution_count": 62,
      "outputs": [
        {
          "output_type": "execute_result",
          "data": {
            "text/plain": [
              "KNeighborsRegressor(algorithm='auto', leaf_size=30, metric='minkowski',\n",
              "                    metric_params=None, n_jobs=None, n_neighbors=5, p=2,\n",
              "                    weights='uniform')"
            ]
          },
          "metadata": {
            "tags": []
          },
          "execution_count": 62
        }
      ]
    },
    {
      "cell_type": "code",
      "metadata": {
        "id": "E-VehB6gSUs4",
        "colab_type": "code",
        "colab": {}
      },
      "source": [
        "pred1 = model1.predict(X_test)\n",
        "pred2 = model2.predict(X_test)"
      ],
      "execution_count": 0,
      "outputs": []
    },
    {
      "cell_type": "code",
      "metadata": {
        "id": "1pzVje6hUyz0",
        "colab_type": "code",
        "outputId": "dd4cfd75-4a75-4b3a-d41f-78e8d3bae2f8",
        "colab": {
          "base_uri": "https://localhost:8080/",
          "height": 87
        }
      },
      "source": [
        "print(\"Model1 mean_squared_error:\",\n",
        "        mean_squared_error(Y_test, pred1))\n",
        "print(\"Model2 mean_squared_error:\",\n",
        "      mean_squared_error(Y_test, pred2))\n",
        "print(\"Model1 r2_score:\",r2_score(Y_test, pred1))\n",
        "print(\"Model2 r2_score:\", r2_score(Y_test, pred2))"
      ],
      "execution_count": 64,
      "outputs": [
        {
          "output_type": "stream",
          "text": [
            "Model1 mean_squared_error: 0.1777139566496869\n",
            "Model2 mean_squared_error: 0.15333333333333332\n",
            "Model1 r2_score: 0.6807533712879876\n",
            "Model2 r2_score: 0.7245508982035929\n"
          ],
          "name": "stdout"
        }
      ]
    },
    {
      "cell_type": "markdown",
      "metadata": {
        "id": "ZGEKm4KxXpsa",
        "colab_type": "text"
      },
      "source": [
        "Simple Averaging"
      ]
    },
    {
      "cell_type": "code",
      "metadata": {
        "id": "h1KMq_GrT0r4",
        "colab_type": "code",
        "colab": {}
      },
      "source": [
        "pred = (pred1 + pred2) / 2"
      ],
      "execution_count": 0,
      "outputs": []
    },
    {
      "cell_type": "code",
      "metadata": {
        "id": "_0g1Z1lRUkjo",
        "colab_type": "code",
        "outputId": "588cacaa-02d6-446d-b97f-bf59b7f8a4c2",
        "colab": {
          "base_uri": "https://localhost:8080/",
          "height": 52
        }
      },
      "source": [
        "print(\"mean_squared_error:\",\n",
        "      mean_squared_error(Y_test, pred))\n",
        "print(\"r2_score:\", r2_score(Y_test, pred))"
      ],
      "execution_count": 66,
      "outputs": [
        {
          "output_type": "stream",
          "text": [
            "mean_squared_error: 0.14921995730097123\n",
            "r2_score: 0.7319401964653212\n"
          ],
          "name": "stdout"
        }
      ]
    }
  ]
}