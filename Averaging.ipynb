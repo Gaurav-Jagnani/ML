{
  "nbformat": 4,
  "nbformat_minor": 0,
  "metadata": {
    "colab": {
      "name": "Averaging.ipynb",
      "provenance": []
    },
    "kernelspec": {
      "name": "python3",
      "display_name": "Python 3"
    }
  },
  "cells": [
    {
      "cell_type": "code",
      "metadata": {
        "id": "bJsH7ZroyzFe",
        "colab_type": "code",
        "colab": {}
      },
      "source": [
        "import numpy as np\n",
        "import pandas as pd\n",
        "from sklearn import datasets\n",
        "from sklearn.model_selection import KFold\n",
        "from sklearn.linear_model import LinearRegression\n",
        "from sklearn.neighbors import KNeighborsRegressor\n",
        "from sklearn.model_selection import train_test_split\n",
        "from sklearn.metrics import mean_squared_error, r2_score"
      ],
      "execution_count": 0,
      "outputs": []
    },
    {
      "cell_type": "code",
      "metadata": {
        "id": "s87QSjApzAbq",
        "colab_type": "code",
        "colab": {
          "base_uri": "https://localhost:8080/",
          "height": 260
        },
        "outputId": "3b41405a-c69e-4c98-ca97-05a68a5d55d3"
      },
      "source": [
        "iris = datasets.load_iris()\n",
        "X = pd.DataFrame(iris.data, columns=iris.feature_names)\n",
        "Y = iris.target\n",
        "print(X)"
      ],
      "execution_count": 4,
      "outputs": [
        {
          "output_type": "stream",
          "text": [
            "     sepal length (cm)  sepal width (cm)  petal length (cm)  petal width (cm)\n",
            "0                  5.1               3.5                1.4               0.2\n",
            "1                  4.9               3.0                1.4               0.2\n",
            "2                  4.7               3.2                1.3               0.2\n",
            "3                  4.6               3.1                1.5               0.2\n",
            "4                  5.0               3.6                1.4               0.2\n",
            "..                 ...               ...                ...               ...\n",
            "145                6.7               3.0                5.2               2.3\n",
            "146                6.3               2.5                5.0               1.9\n",
            "147                6.5               3.0                5.2               2.0\n",
            "148                6.2               3.4                5.4               2.3\n",
            "149                5.9               3.0                5.1               1.8\n",
            "\n",
            "[150 rows x 4 columns]\n"
          ],
          "name": "stdout"
        }
      ]
    },
    {
      "cell_type": "code",
      "metadata": {
        "id": "tvto2ZlVzEGX",
        "colab_type": "code",
        "colab": {
          "base_uri": "https://localhost:8080/",
          "height": 35
        },
        "outputId": "52948888-ada1-4bac-df26-b70954be7bb8"
      },
      "source": [
        "# Remove correlated columns\n",
        "corr_df = X.corr().abs()\n",
        "up_tri = np.triu(\n",
        "\tnp.full(corr_df.shape, 1), k=1)\n",
        "up_tri = up_tri.astype(bool)\n",
        "corr_df = corr_df.where(up_tri)\n",
        "correlated_cols = [col for col in corr_df if any(corr_df[col] > 0.75)]\n",
        "print(correlated_cols)"
      ],
      "execution_count": 5,
      "outputs": [
        {
          "output_type": "stream",
          "text": [
            "['petal length (cm)', 'petal width (cm)']\n"
          ],
          "name": "stdout"
        }
      ]
    },
    {
      "cell_type": "code",
      "metadata": {
        "id": "EOzoAS-9zeIR",
        "colab_type": "code",
        "colab": {
          "base_uri": "https://localhost:8080/",
          "height": 35
        },
        "outputId": "306c1bea-18ac-4371-9016-08ec4ecdaeab"
      },
      "source": [
        "X.drop(correlated_cols, axis=1, inplace=True)\n",
        "print(X.shape)"
      ],
      "execution_count": 6,
      "outputs": [
        {
          "output_type": "stream",
          "text": [
            "(150, 2)\n"
          ],
          "name": "stdout"
        }
      ]
    },
    {
      "cell_type": "code",
      "metadata": {
        "id": "4nlt8z_NzlG_",
        "colab_type": "code",
        "colab": {
          "base_uri": "https://localhost:8080/",
          "height": 52
        },
        "outputId": "f9903898-648f-4f6e-ac91-604e691c9b87"
      },
      "source": [
        "X_train, X_test, Y_train, Y_test = train_test_split(X, Y, test_size=0.2)"
      ],
      "execution_count": 33,
      "outputs": [
        {
          "output_type": "stream",
          "text": [
            "(120, 2)\n",
            "(30, 2)\n"
          ],
          "name": "stdout"
        }
      ]
    },
    {
      "cell_type": "code",
      "metadata": {
        "id": "c93A5sqFRY22",
        "colab_type": "code",
        "colab": {}
      },
      "source": [
        "model1 = LinearRegression()\n",
        "model2 = KNeighborsRegressor()"
      ],
      "execution_count": 0,
      "outputs": []
    },
    {
      "cell_type": "code",
      "metadata": {
        "id": "inulLX3KSMl5",
        "colab_type": "code",
        "colab": {
          "base_uri": "https://localhost:8080/",
          "height": 69
        },
        "outputId": "e43691a5-dc07-4fca-b6f7-bffbf7303b4a"
      },
      "source": [
        "model1.fit(X_train, Y_train)\n",
        "model2.fit(X_train, Y_train)"
      ],
      "execution_count": 35,
      "outputs": [
        {
          "output_type": "execute_result",
          "data": {
            "text/plain": [
              "KNeighborsRegressor(algorithm='auto', leaf_size=30, metric='minkowski',\n",
              "                    metric_params=None, n_jobs=None, n_neighbors=5, p=2,\n",
              "                    weights='uniform')"
            ]
          },
          "metadata": {
            "tags": []
          },
          "execution_count": 35
        }
      ]
    },
    {
      "cell_type": "code",
      "metadata": {
        "id": "E-VehB6gSUs4",
        "colab_type": "code",
        "colab": {}
      },
      "source": [
        "pred1 = model1.predict(X_test)\n",
        "pred2 = model2.predict(X_test)"
      ],
      "execution_count": 0,
      "outputs": []
    },
    {
      "cell_type": "code",
      "metadata": {
        "id": "1pzVje6hUyz0",
        "colab_type": "code",
        "colab": {
          "base_uri": "https://localhost:8080/",
          "height": 87
        },
        "outputId": "be888377-4dfd-47b1-dc15-4e19e3c62252"
      },
      "source": [
        "print(\"Model1 mean_squared_error:\", mean_squared_error(Y_test, pred1))\n",
        "print(\"Model2 mean_squared_error:\", mean_squared_error(Y_test, pred2))\n",
        "print(\"Model1 r2_score:\", r2_score(Y_test, pred1))\n",
        "print(\"Model2 r2_score:\", r2_score(Y_test, pred2))"
      ],
      "execution_count": 53,
      "outputs": [
        {
          "output_type": "stream",
          "text": [
            "Model1 mean_squared_error: 0.18133032773112684\n",
            "Model2 mean_squared_error: 0.12666666666666668\n",
            "Model1 r2_score: 0.7280045084033098\n",
            "Model2 r2_score: 0.81\n"
          ],
          "name": "stdout"
        }
      ]
    },
    {
      "cell_type": "markdown",
      "metadata": {
        "id": "ZGEKm4KxXpsa",
        "colab_type": "text"
      },
      "source": [
        "Simple Averaging"
      ]
    },
    {
      "cell_type": "code",
      "metadata": {
        "id": "h1KMq_GrT0r4",
        "colab_type": "code",
        "colab": {}
      },
      "source": [
        "pred = (pred1 + pred2) / 2"
      ],
      "execution_count": 0,
      "outputs": []
    },
    {
      "cell_type": "code",
      "metadata": {
        "id": "_0g1Z1lRUkjo",
        "colab_type": "code",
        "colab": {
          "base_uri": "https://localhost:8080/",
          "height": 52
        },
        "outputId": "c525763b-343a-4872-9cd5-164108c2b7a3"
      },
      "source": [
        "print(\"mean_squared_error:\", mean_squared_error(Y_test, pred))\n",
        "print(\"r2_score:\", r2_score(Y_test, pred))"
      ],
      "execution_count": 55,
      "outputs": [
        {
          "output_type": "stream",
          "text": [
            "mean_squared_error: 0.13252767579124675\n",
            "r2_score: 0.8012084863131299\n"
          ],
          "name": "stdout"
        }
      ]
    }
  ]
}